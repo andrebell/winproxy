{
 "cells": [
  {
   "cell_type": "markdown",
   "metadata": {},
   "source": [
    "# The command line tool\n",
    "\n",
    "The winproxy command line tool uses [click](https://pypi.python.org/pypi/click) to parse options, arguments and the subcommand structure."
   ]
  },
  {
   "cell_type": "code",
   "execution_count": null,
   "metadata": {
    "collapsed": true
   },
   "outputs": [],
   "source": [
    "import click\n",
    "from . import ProxySetting"
   ]
  },
  {
   "cell_type": "code",
   "execution_count": null,
   "metadata": {
    "collapsed": true
   },
   "outputs": [],
   "source": [
    "# Requires getting parameters from subcommands....\n",
    "# Well... To be done...\n",
    "@click.group()\n",
    "@click.version_option(prog_name='winproxy')\n",
    "def winproxy():\n",
    "    \"\"\"The command line function\"\"\"\n",
    "    pass\n",
    "    \n",
    "    ##############################################################\n",
    "    ## argparse structure\n",
    "    ##############################################################\n",
    "    ## Create a parser\n",
    "    #parser = argparse.ArgumentParser(prog='winproxy')\n",
    "    #\n",
    "    ## The command will accept subparsers\n",
    "    #cmd_parsers = parser.add_subparsers(dest='command', help='Get help on command')\n",
    "    #\n",
    "    ## The following commands are available through their subparsers\n",
    "    #parser_add = cmd_parsers.add_parser('add', help=cmd_add.__doc__)\n",
    "    #parser_add.set_defaults(func=cmd_add)\n",
    "    #\n",
    "    #parser_cpl = cmd_parsers.add_parser('cpl', help=cmd_cpl.__doc__)\n",
    "    #parser_cpl.set_defaults(func=cmd_cpl)\n",
    "    #\n",
    "    #parser_del = cmd_parsers.add_parser('del', help=cmd_del.__doc__)\n",
    "    #parser_del.set_defaults(func=cmd_del)\n",
    "    #\n",
    "    #parser_edit = cmd_parsers.add_parser('edit', help=cmd_edit.__doc__)\n",
    "    #parser_edit.set_defaults(func=cmd_edit)\n",
    "    #\n",
    "    #parser_off = cmd_parsers.add_parser('off', help=cmd_off.__doc__)\n",
    "    #parser_off.set_defaults(func=cmd_off)\n",
    "    #\n",
    "    #parser_on = cmd_parsers.add_parser('on', help=cmd_on.__doc__)\n",
    "    #parser_on.set_defaults(func=cmd_on)\n",
    "    #\n",
    "    #parser_set = cmd_parsers.add_parser('set', help=cmd_set.__doc__)\n",
    "    #parser_set.add_argument('--enable', '-e', type=_to_bool)\n",
    "    #parser_set.add_argument('--http11', type=_to_bool)\n",
    "    #parser_set.add_argument('--override', '-o', default=[], nargs='*')\n",
    "    #parser_set.add_argument('--all', dest='proxy', default='')\n",
    "    #parser_set.add_argument('--http', dest='http', default='')\n",
    "    #parser_set.add_argument('--https', dest='https', default='')\n",
    "    #parser_set.add_argument('--ftp', dest='ftp', default='')\n",
    "    #parser_set.add_argument('--socks', dest='socks', default='')\n",
    "    #parser_set.set_defaults(func=cmd_set)\n",
    "    #\n",
    "    #parser_view = cmd_parsers.add_parser('view', help=cmd_view.__doc__)\n",
    "    #parser_view.add_argument('--max-overrides', '-n', type=int, default=None, help='Limit the number of displayed proxy overrides')\n",
    "    #parser_view.set_defaults(func=cmd_view)\n",
    "    #\n",
    "    #args = parser.parse_args()\n",
    "    #try:\n",
    "    #    # Python 3 does not display usage if command is ommitted\n",
    "    #    # Hence, we force it...\n",
    "    #    if not args.command:\n",
    "    #        raise AttributeError\n",
    "    #    args.func(args)\n",
    "    #except AttributeError:\n",
    "    #    parser.print_usage()"
   ]
  },
  {
   "cell_type": "code",
   "execution_count": null,
   "metadata": {
    "collapsed": true
   },
   "outputs": [],
   "source": [
    "@winproxy.command(name='add')\n",
    "def _add():\n",
    "    \"\"\"The add command adds the current proxy settings to the database\"\"\"\n",
    "    click.echo('Adding to database is not yet implemented')"
   ]
  },
  {
   "cell_type": "code",
   "execution_count": null,
   "metadata": {
    "collapsed": true
   },
   "outputs": [],
   "source": [
    "@winproxy.command(name='cpl')\n",
    "def _cpl():\n",
    "    \"\"\"Open the windows internet settings dialog\"\"\"\n",
    "    #click.launch('control inetcpl.cpl')\n",
    "    import subprocess\n",
    "    subprocess.Popen(['control', 'inetcpl.cpl'])"
   ]
  },
  {
   "cell_type": "code",
   "execution_count": null,
   "metadata": {
    "collapsed": true
   },
   "outputs": [],
   "source": [
    "@winproxy.command(name='del')\n",
    "def _del():\n",
    "    \"\"\"Remove a particular proxy setting from the database\"\"\"\n",
    "    click.echo('Removing from database is not yet implemented')"
   ]
  },
  {
   "cell_type": "code",
   "execution_count": null,
   "metadata": {
    "collapsed": true
   },
   "outputs": [],
   "source": [
    "@winproxy.command(name='edit')\n",
    "def _edit():\n",
    "    \"\"\"Open the Windows proxy settings dialog\"\"\"\n",
    "    click.echo('Opening the windows proxy settings dialog is not yet implemented')"
   ]
  },
  {
   "cell_type": "code",
   "execution_count": null,
   "metadata": {
    "collapsed": true
   },
   "outputs": [],
   "source": [
    "@winproxy.command(name='off')\n",
    "def _off():\n",
    "    \"\"\"Disable the proxy\"\"\"\n",
    "    p = ProxySetting()\n",
    "    p.registry_read()\n",
    "    p.enable = False\n",
    "    p.registry_write()"
   ]
  },
  {
   "cell_type": "code",
   "execution_count": null,
   "metadata": {
    "collapsed": true
   },
   "outputs": [],
   "source": [
    "@winproxy.command(name='on')\n",
    "def _on():\n",
    "    \"\"\"Enable the proxy\"\"\"\n",
    "    p = ProxySetting()\n",
    "    p.registry_read()\n",
    "    p.enable = True\n",
    "    p.registry_write()"
   ]
  },
  {
   "cell_type": "code",
   "execution_count": null,
   "metadata": {
    "collapsed": true
   },
   "outputs": [],
   "source": [
    "@winproxy.command(name='server')\n",
    "@click.argument('serversetting', default=None, required=False)\n",
    "def _server(serversetting):\n",
    "    \"\"\"Experimental command to read or set the ProxyServer property directly.\"\"\"\n",
    "    p = ProxySetting()\n",
    "    p.registry_read()\n",
    "    if serversetting is None:\n",
    "        click.echo(p._server[0])\n",
    "    else:\n",
    "        p._server = (serversetting, p._server[1])\n",
    "        p.registry_write()"
   ]
  },
  {
   "cell_type": "code",
   "execution_count": null,
   "metadata": {
    "collapsed": true
   },
   "outputs": [],
   "source": [
    "@winproxy.command(name='set')\n",
    "@click.option('--enable/--disable', '-e/-d', 'enable', default=None)\n",
    "@click.option('--http11/--no-http11', '-h/-nh', 'http11', default=None)\n",
    "@click.option('--override', '-o', default=None) #, nargs='*')\n",
    "@click.option('--all', 'proxy', default=None)\n",
    "@click.option('--http', default=None)\n",
    "@click.option('--https', default=None)\n",
    "@click.option('--ftp', default=None)\n",
    "@click.option('--socks', default=None)\n",
    "def _set(enable, http11, override, proxy, http, https, ftp, socks):\n",
    "    \"\"\"Change the current proxy settings\"\"\"\n",
    "    server = None\n",
    "    if not proxy is None and not proxy == '':\n",
    "        server = dict(all=proxy)\n",
    "    else:\n",
    "        server = {}\n",
    "        if not http is None and not http == '':\n",
    "            server['http'] = http\n",
    "        if not https is None and not https == '':\n",
    "            server['https'] = https\n",
    "        if not ftp is None and not ftp == '':\n",
    "            server['ftp'] = ftp\n",
    "        if not socks is None and not socks == '':\n",
    "            server['socks'] = socks\n",
    "        if server == {}:\n",
    "            server = None\n",
    "    click.echo(server)\n",
    "    \n",
    "    p = ProxySetting()\n",
    "    p.registry_read()\n",
    "    \n",
    "    changed = False\n",
    "    if not enable is None:\n",
    "        p.enable = enable\n",
    "        changed = True\n",
    "    if not http11 is None:\n",
    "        p.http11 = http11\n",
    "        changed = True\n",
    "    if not server is None:\n",
    "        p.server = server\n",
    "        changed = True\n",
    "    if not override is None:\n",
    "        p.override = override\n",
    "        changed = True\n",
    "    if changed:\n",
    "        p.registry_write()"
   ]
  },
  {
   "cell_type": "code",
   "execution_count": null,
   "metadata": {
    "collapsed": true
   },
   "outputs": [],
   "source": [
    "@winproxy.command(name='view')\n",
    "@click.option('--max-overrides', '-n', 'max_overrides', help='Limit the number of displayed proxy overrides') #type=int, default=None, \n",
    "def _view(max_overrides):\n",
    "    \"\"\"The view command displays the current proxy settings\"\"\"\n",
    "    p = ProxySetting()\n",
    "    p.registry_read()\n",
    "    \n",
    "    click.echo(\"ProxyEnable: {0}\".format(p.enable))\n",
    "    click.echo(\"ProxyHttp11: {0}\".format(p.http11))\n",
    "    click.echo(\"ProxyServer: {0}\".format(p._server[0]))\n",
    "    if max_overrides == 0:\n",
    "        # Do not display proxy overrides\n",
    "        pass\n",
    "    else:\n",
    "        # Display proxy overrides, possibly limited number\n",
    "        click.echo(\"ProxyOverride:\")\n",
    "\n",
    "        if max_overrides == None or max_overrides == -1:\n",
    "            displayed_overrides = p.override\n",
    "            limited = False\n",
    "        else:\n",
    "            displayed_overrides = p.override[:max_overrides]\n",
    "            limited = True\n",
    "\n",
    "        for exc in displayed_overrides:\n",
    "            click.echo(\"- {0}\".format(exc))\n",
    "\n",
    "        if limited and (len(p.override)-max_overrides > 0):\n",
    "            click.echo(\"- ... ({0} more)\".format(len(p.override)-max_overrides))"
   ]
  }
 ],
 "metadata": {
  "kernelspec": {
   "display_name": "Python 3",
   "language": "python",
   "name": "python3"
  },
  "language_info": {
   "codemirror_mode": {
    "name": "ipython",
    "version": 3
   },
   "file_extension": ".py",
   "mimetype": "text/x-python",
   "name": "python",
   "nbconvert_exporter": "python",
   "pygments_lexer": "ipython3",
   "version": "3.4.3"
  }
 },
 "nbformat": 4,
 "nbformat_minor": 0
}
