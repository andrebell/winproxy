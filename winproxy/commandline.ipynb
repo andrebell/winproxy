{
 "cells": [
  {
   "cell_type": "markdown",
   "metadata": {},
   "source": [
    "# The command line tool\n",
    "\n",
    "The winproxy command line tool parses the parameter using the argparse module."
   ]
  },
  {
   "cell_type": "code",
   "execution_count": null,
   "metadata": {
    "collapsed": true
   },
   "outputs": [],
   "source": [
    "import argparse\n",
    "from . import ProxySetting"
   ]
  },
  {
   "cell_type": "code",
   "execution_count": null,
   "metadata": {
    "collapsed": true
   },
   "outputs": [],
   "source": [
    "def cmd_add(args):\n",
    "    \"\"\"The add command adds the current proxy settings to the database\"\"\"\n",
    "    print('Adding to database is not yet implemented')"
   ]
  },
  {
   "cell_type": "code",
   "execution_count": null,
   "metadata": {
    "collapsed": true
   },
   "outputs": [],
   "source": [
    "def cmd_del(args):\n",
    "    \"\"\"Remove a particular proxy setting from the database\"\"\"\n",
    "    print('Removing from database is not yet implemented')"
   ]
  },
  {
   "cell_type": "code",
   "execution_count": null,
   "metadata": {
    "collapsed": true
   },
   "outputs": [],
   "source": [
    "def cmd_edit(args):\n",
    "    \"\"\"Open the Windows proxy settings dialog\"\"\"\n",
    "    print('Opening the windows proxy settings dialog is not yet implemented')"
   ]
  },
  {
   "cell_type": "code",
   "execution_count": null,
   "metadata": {
    "collapsed": true
   },
   "outputs": [],
   "source": [
    "def cmd_off(args):\n",
    "    \"\"\"Disable the proxy\"\"\"\n",
    "    p = ProxySetting()\n",
    "    p.registry_read()\n",
    "    p.enable = False\n",
    "    p.registry_write()"
   ]
  },
  {
   "cell_type": "code",
   "execution_count": null,
   "metadata": {
    "collapsed": true
   },
   "outputs": [],
   "source": [
    "def cmd_on(args):\n",
    "    \"\"\"Enable the proxy\"\"\"\n",
    "    p = ProxySetting()\n",
    "    p.registry_read()\n",
    "    p.enable = True\n",
    "    p.registry_write()"
   ]
  },
  {
   "cell_type": "code",
   "execution_count": null,
   "metadata": {
    "collapsed": true
   },
   "outputs": [],
   "source": [
    "def cmd_set(args):\n",
    "    \"\"\"Change the current proxy settings\"\"\"\n",
    "    print('Changing the current settings is not yet implemented')"
   ]
  },
  {
   "cell_type": "code",
   "execution_count": null,
   "metadata": {
    "collapsed": true
   },
   "outputs": [],
   "source": [
    "def cmd_view(args):\n",
    "    \"\"\"The view command displays the current proxy settings\"\"\"\n",
    "    p = ProxySetting()\n",
    "    p.registry_read()\n",
    "    p.display(args.max_overrides)"
   ]
  },
  {
   "cell_type": "code",
   "execution_count": null,
   "metadata": {
    "collapsed": true
   },
   "outputs": [],
   "source": [
    "def winproxy():\n",
    "    \"\"\"The command line function\"\"\"\n",
    "    # Create a parser\n",
    "    parser = argparse.ArgumentParser()\n",
    "    \n",
    "    # The command will accept subparsers\n",
    "    cmd_parsers = parser.add_subparsers(dest='command', help='Get help on command')\n",
    "\n",
    "    # The following commands are available through their subparsers\n",
    "    parser_add = cmd_parsers.add_parser('add', help=cmd_add.__doc__)\n",
    "    parser_add.set_defaults(func=cmd_add)\n",
    "    \n",
    "    parser_del = cmd_parsers.add_parser('del', help=cmd_del.__doc__)\n",
    "    parser_del.set_defaults(func=cmd_del)\n",
    "    \n",
    "    parser_edit = cmd_parsers.add_parser('edit', help=cmd_edit.__doc__)\n",
    "    parser_edit.set_defaults(func=cmd_edit)\n",
    "    \n",
    "    parser_off = cmd_parsers.add_parser('off', help=cmd_off.__doc__)\n",
    "    parser_off.set_defaults(func=cmd_off)\n",
    "    \n",
    "    parser_on = cmd_parsers.add_parser('on', help=cmd_on.__doc__)\n",
    "    parser_on.set_defaults(func=cmd_on)\n",
    "    \n",
    "    parser_set = cmd_parsers.add_parser('set', help=cmd_set.__doc__)\n",
    "    parser_set.set_defaults(func=cmd_set)\n",
    "\n",
    "    parser_view = cmd_parsers.add_parser('view', help=cmd_view.__doc__)\n",
    "    parser_view.add_argument('--max-overrides', '-n', type=int, default=None, help='Limit the number of displayed proxy overrides')\n",
    "    parser_view.set_defaults(func=cmd_view)\n",
    "    \n",
    "    args = parser.parse_args()\n",
    "    args.func(args)"
   ]
  }
 ],
 "metadata": {
  "kernelspec": {
   "display_name": "Python 3",
   "language": "python",
   "name": "python3"
  },
  "language_info": {
   "codemirror_mode": {
    "name": "ipython",
    "version": 3
   },
   "file_extension": ".py",
   "mimetype": "text/x-python",
   "name": "python",
   "nbconvert_exporter": "python",
   "pygments_lexer": "ipython3",
   "version": "3.4.3"
  }
 },
 "nbformat": 4,
 "nbformat_minor": 0
}
