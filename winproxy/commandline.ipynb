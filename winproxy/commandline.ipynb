{
 "cells": [
  {
   "cell_type": "markdown",
   "metadata": {},
   "source": [
    "# The command line tool\n",
    "\n",
    "The winproxy command line tool parses the parameter using the argparse module."
   ]
  },
  {
   "cell_type": "code",
   "execution_count": null,
   "metadata": {
    "collapsed": true
   },
   "outputs": [],
   "source": [
    "#import argparse\n",
    "import click\n",
    "from . import ProxySetting"
   ]
  },
  {
   "cell_type": "code",
   "execution_count": null,
   "metadata": {
    "collapsed": true
   },
   "outputs": [],
   "source": [
    "def _to_bool(value):\n",
    "    try:\n",
    "        i = int(value)\n",
    "        return i == 1\n",
    "    except:\n",
    "        if value in ['True', 'true', 'yes']:\n",
    "            return True\n",
    "        if value in ['False', 'false', 'no']:\n",
    "            return False\n",
    "        raise Exception('Can\\'t convert {0} to a boolean value'.format(value))"
   ]
  },
  {
   "cell_type": "code",
   "execution_count": null,
   "metadata": {
    "collapsed": true
   },
   "outputs": [],
   "source": [
    "# Requires getting parameters from subcommands....\n",
    "# Well... To be done...\n",
    "@click.group()\n",
    "def winproxy():\n",
    "    \"\"\"The command line function\"\"\"\n",
    "    pass\n",
    "    \n",
    "    ##############################################################\n",
    "    ## argparse structure\n",
    "    ##############################################################\n",
    "    ## Create a parser\n",
    "    #parser = argparse.ArgumentParser(prog='winproxy')\n",
    "    #\n",
    "    ## The command will accept subparsers\n",
    "    #cmd_parsers = parser.add_subparsers(dest='command', help='Get help on command')\n",
    "    #\n",
    "    ## The following commands are available through their subparsers\n",
    "    #parser_add = cmd_parsers.add_parser('add', help=cmd_add.__doc__)\n",
    "    #parser_add.set_defaults(func=cmd_add)\n",
    "    #\n",
    "    #parser_cpl = cmd_parsers.add_parser('cpl', help=cmd_cpl.__doc__)\n",
    "    #parser_cpl.set_defaults(func=cmd_cpl)\n",
    "    #\n",
    "    #parser_del = cmd_parsers.add_parser('del', help=cmd_del.__doc__)\n",
    "    #parser_del.set_defaults(func=cmd_del)\n",
    "    #\n",
    "    #parser_edit = cmd_parsers.add_parser('edit', help=cmd_edit.__doc__)\n",
    "    #parser_edit.set_defaults(func=cmd_edit)\n",
    "    #\n",
    "    #parser_off = cmd_parsers.add_parser('off', help=cmd_off.__doc__)\n",
    "    #parser_off.set_defaults(func=cmd_off)\n",
    "    #\n",
    "    #parser_on = cmd_parsers.add_parser('on', help=cmd_on.__doc__)\n",
    "    #parser_on.set_defaults(func=cmd_on)\n",
    "    #\n",
    "    #parser_set = cmd_parsers.add_parser('set', help=cmd_set.__doc__)\n",
    "    #parser_set.add_argument('--enable', '-e', type=_to_bool)\n",
    "    #parser_set.add_argument('--http11', type=_to_bool)\n",
    "    #parser_set.add_argument('--override', '-o', default=[], nargs='*')\n",
    "    #parser_set.add_argument('--all', dest='proxy', default='')\n",
    "    #parser_set.add_argument('--http', dest='http', default='')\n",
    "    #parser_set.add_argument('--https', dest='https', default='')\n",
    "    #parser_set.add_argument('--ftp', dest='ftp', default='')\n",
    "    #parser_set.add_argument('--socks', dest='socks', default='')\n",
    "    #parser_set.set_defaults(func=cmd_set)\n",
    "    #\n",
    "    #parser_view = cmd_parsers.add_parser('view', help=cmd_view.__doc__)\n",
    "    #parser_view.add_argument('--max-overrides', '-n', type=int, default=None, help='Limit the number of displayed proxy overrides')\n",
    "    #parser_view.set_defaults(func=cmd_view)\n",
    "    #\n",
    "    #args = parser.parse_args()\n",
    "    #try:\n",
    "    #    # Python 3 does not display usage if command is ommitted\n",
    "    #    # Hence, we force it...\n",
    "    #    if not args.command:\n",
    "    #        raise AttributeError\n",
    "    #    args.func(args)\n",
    "    #except AttributeError:\n",
    "    #    parser.print_usage()"
   ]
  },
  {
   "cell_type": "code",
   "execution_count": null,
   "metadata": {
    "collapsed": true
   },
   "outputs": [],
   "source": [
    "def cmd_add(args):\n",
    "    \"\"\"The add command adds the current proxy settings to the database\"\"\"\n",
    "    print('Adding to database is not yet implemented')"
   ]
  },
  {
   "cell_type": "code",
   "execution_count": null,
   "metadata": {
    "collapsed": true
   },
   "outputs": [],
   "source": [
    "def cmd_cpl(args):\n",
    "    \"\"\"Open the windows internet settings dialog\"\"\"\n",
    "    import subprocess\n",
    "    subprocess.Popen(['control', 'inetcpl.cpl'])"
   ]
  },
  {
   "cell_type": "code",
   "execution_count": null,
   "metadata": {
    "collapsed": true
   },
   "outputs": [],
   "source": [
    "def cmd_del(args):\n",
    "    \"\"\"Remove a particular proxy setting from the database\"\"\"\n",
    "    print('Removing from database is not yet implemented')"
   ]
  },
  {
   "cell_type": "code",
   "execution_count": null,
   "metadata": {
    "collapsed": true
   },
   "outputs": [],
   "source": [
    "def cmd_edit(args):\n",
    "    \"\"\"Open the Windows proxy settings dialog\"\"\"\n",
    "    print('Opening the windows proxy settings dialog is not yet implemented')"
   ]
  },
  {
   "cell_type": "code",
   "execution_count": null,
   "metadata": {
    "collapsed": true
   },
   "outputs": [],
   "source": [
    "@winproxy.command(name='off')\n",
    "def cmd_off(args):\n",
    "    \"\"\"Disable the proxy\"\"\"\n",
    "    p = ProxySetting()\n",
    "    p.registry_read()\n",
    "    p.enable = False\n",
    "    p.registry_write()"
   ]
  },
  {
   "cell_type": "code",
   "execution_count": null,
   "metadata": {
    "collapsed": true
   },
   "outputs": [],
   "source": [
    "@winproxy.command(name='on')\n",
    "def cmd_on(args):\n",
    "    \"\"\"Enable the proxy\"\"\"\n",
    "    p = ProxySetting()\n",
    "    p.registry_read()\n",
    "    p.enable = True\n",
    "    p.registry_write()"
   ]
  },
  {
   "cell_type": "code",
   "execution_count": null,
   "metadata": {
    "collapsed": true
   },
   "outputs": [],
   "source": [
    "@winproxy.command(name='set')\n",
    "@click.option('--enable', '-e', 'enable') #type=_to_bool)\n",
    "@click.option('--http11', 'http11') #type=_to_bool)\n",
    "@click.option('--override', '-o', 'override') #default=[], nargs='*')\n",
    "@click.option('--all', 'proxy') #, default='')\n",
    "@click.option('--http', 'http') #, default='')\n",
    "@click.option('--https', 'https') #, default='')\n",
    "@click.option('--ftp', 'ftp') #, default='')\n",
    "@click.option('--socks', 'socks') #, default='')\n",
    "def cmd_set(enable, http11, override, proxy, http, https, ftp, socks):\n",
    "    \"\"\"Change the current proxy settings\"\"\"\n",
    "    enable = args.enable\n",
    "    http11 = args.http11\n",
    "    server = {}\n",
    "    override = args.override\n",
    "    if args.proxy:\n",
    "        server['all'] = args.proxy\n",
    "    else:\n",
    "        if args.http:\n",
    "            server['http'] = args.http\n",
    "        if args.https:\n",
    "            server['https'] = args.https\n",
    "        if args.ftp:\n",
    "            server['ftp'] = args.ftp\n",
    "        if args.socks:\n",
    "            server['socks'] = args.socks\n",
    "    p = ProxySetting()\n",
    "    p.registry_read()\n",
    "    changed = False\n",
    "    if enable:\n",
    "        p.enable = enable\n",
    "        changed = True\n",
    "    if http11:\n",
    "        p.http11 = http11\n",
    "        changed = True\n",
    "    if server:\n",
    "        p.server = server\n",
    "        changed = True\n",
    "    if override:\n",
    "        p.override = override\n",
    "        changed = True\n",
    "    if changed:\n",
    "        p.registry_write()\n",
    "    p.display()"
   ]
  },
  {
   "cell_type": "code",
   "execution_count": null,
   "metadata": {
    "collapsed": true
   },
   "outputs": [],
   "source": [
    "@winproxy.command(name='view')\n",
    "@click.option('--max-overrides', '-n', 'max_overrides', help='Limit the number of displayed proxy overrides') #type=int, default=None, \n",
    "def cmd_view(max_overrides):\n",
    "    \"\"\"The view command displays the current proxy settings\"\"\"\n",
    "    p = ProxySetting()\n",
    "    p.registry_read()\n",
    "    p.display(max_overrides)"
   ]
  }
 ],
 "metadata": {
  "kernelspec": {
   "display_name": "Python 3",
   "language": "python",
   "name": "python3"
  },
  "language_info": {
   "codemirror_mode": {
    "name": "ipython",
    "version": 3
   },
   "file_extension": ".py",
   "mimetype": "text/x-python",
   "name": "python",
   "nbconvert_exporter": "python",
   "pygments_lexer": "ipython3",
   "version": "3.4.3"
  }
 },
 "nbformat": 4,
 "nbformat_minor": 0
}
