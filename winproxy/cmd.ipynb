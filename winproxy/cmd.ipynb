{
 "cells": [
  {
   "cell_type": "markdown",
   "metadata": {},
   "source": [
    "# The command line tool\n",
    "\n",
    "The winproxy command line tool parses the parameter using the argparse module."
   ]
  },
  {
   "cell_type": "code",
   "execution_count": null,
   "metadata": {
    "collapsed": true
   },
   "outputs": [],
   "source": [
    "import argparse"
   ]
  },
  {
   "cell_type": "code",
   "execution_count": null,
   "metadata": {
    "collapsed": true
   },
   "outputs": [],
   "source": [
    "def cmd_view(args):\n",
    "    \"\"\"The view command displays the current proxy settings\"\"\"\n",
    "    print('view')"
   ]
  },
  {
   "cell_type": "code",
   "execution_count": null,
   "metadata": {
    "collapsed": true
   },
   "outputs": [],
   "source": [
    "def cmd_add(args):\n",
    "    \"\"\"The add command adds the current proxy settings to the database\"\"\"\n",
    "    print('add')"
   ]
  },
  {
   "cell_type": "code",
   "execution_count": null,
   "metadata": {
    "collapsed": true
   },
   "outputs": [],
   "source": [
    "def cmd_set(args):\n",
    "    \"\"\"Change the current proxy settings\"\"\"\n",
    "    print('set')"
   ]
  },
  {
   "cell_type": "code",
   "execution_count": null,
   "metadata": {
    "collapsed": true
   },
   "outputs": [],
   "source": [
    "def cmd_winproxy():\n",
    "    \"\"\"The command line function\"\"\"\n",
    "    # Create a parser\n",
    "    parser = argparse.ArgumentParser()\n",
    "    \n",
    "    # The command will accept subparsers\n",
    "    cmd_parsers = parser.add_subparsers(dest='command', help='Get help on command')\n",
    "\n",
    "    # The following commands are available through their subparsers\n",
    "    parser_view = cmd_parsers.add_parser('view', help=cmd_view.__doc__)\n",
    "    parser_view.set_defaults(func=cmd_view)\n",
    "    \n",
    "    parser_add = cmd_parsers.add_parser('add', help=cmd_add.__doc__)\n",
    "    parser_add.set_defaults(func=cmd_add)\n",
    "    \n",
    "    parser_set = cmd_parsers.add_parser('set', help=cmd_set.__doc__)\n",
    "    parser_set.set_defaults(func=cmd_set)\n",
    "\n",
    "    args = parser.parse_args()\n",
    "    args.func(args)"
   ]
  }
 ],
 "metadata": {
  "kernelspec": {
   "display_name": "Python 3",
   "language": "python",
   "name": "python3"
  },
  "language_info": {
   "codemirror_mode": {
    "name": "ipython",
    "version": 3
   },
   "file_extension": ".py",
   "mimetype": "text/x-python",
   "name": "python",
   "nbconvert_exporter": "python",
   "pygments_lexer": "ipython3",
   "version": "3.4.3"
  }
 },
 "nbformat": 4,
 "nbformat_minor": 0
}
